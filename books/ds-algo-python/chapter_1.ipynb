{
 "cells": [
  {
   "cell_type": "code",
   "execution_count": 6,
   "metadata": {},
   "outputs": [
    {
     "name": "stdout",
     "output_type": "stream",
     "text": [
      "True\n",
      "False\n"
     ]
    }
   ],
   "source": [
    "\"\"\"\n",
    "R-1.1 \n",
    "Write a short Python function, is multiple(n, m), that takes two integer\n",
    "values and returns True if n is a multiple of m, that is, n = mi for some\n",
    "integer i, and False otherwise.\n",
    "\"\"\"\n",
    "\n",
    "def is_multiple(n, m):\n",
    "    # remainder 0 denotes n is multiple of m\n",
    "    return not bool(n % m)\n",
    "\n",
    "print(is_multiple(4,2))\n",
    "print(is_multiple(5,2))"
   ]
  },
  {
   "cell_type": "code",
   "execution_count": 8,
   "metadata": {},
   "outputs": [
    {
     "name": "stdout",
     "output_type": "stream",
     "text": [
      "True\n",
      "False\n"
     ]
    }
   ],
   "source": [
    "\"\"\"\n",
    "R-1.2\n",
    "Write a short Python function, is even(k), that takes an integer value and\n",
    "returns True if k is even, and False otherwise. However, your function\n",
    "cannot use the multiplication, modulo, or division operators.\n",
    "\"\"\"\n",
    "\n",
    "def is_even(k):\n",
    "    # taking mod 2 should return 0 to quanlify as even\n",
    "    # else odd\n",
    "    return k % 2 == 0\n",
    "\n",
    "print(is_even(12))\n",
    "print(is_even(15))"
   ]
  },
  {
   "cell_type": "code",
   "execution_count": 13,
   "metadata": {},
   "outputs": [
    {
     "name": "stdout",
     "output_type": "stream",
     "text": [
      "(3, 11)\n",
      "(0.9, 100)\n"
     ]
    }
   ],
   "source": [
    "\"\"\"\n",
    "R-1.3\n",
    "Write a short Python function, minmax(data), that takes a sequence of\n",
    "one or more numbers, and returns the smallest and largest numbers, in the\n",
    "form of a tuple of length two. Do not use the built-in functions min or\n",
    "max in implementing your solution.\n",
    "\"\"\"\n",
    "\n",
    "def min_max(data):\n",
    "    min_num = max_num = data[0]\n",
    "    for i in data:\n",
    "        if i > max_num:\n",
    "            max_num = i\n",
    "        \n",
    "        if i < min_num:\n",
    "            min_num = i\n",
    "    \n",
    "    return min_num, max_num\n",
    "\n",
    "print(min_max([11,5,4,3]))\n",
    "print(min_max([0.9, 10, 1.1, 100, 99.99]))"
   ]
  },
  {
   "cell_type": "code",
   "execution_count": 22,
   "metadata": {},
   "outputs": [
    {
     "name": "stdout",
     "output_type": "stream",
     "text": [
      "5\n",
      "30\n"
     ]
    }
   ],
   "source": [
    "\"\"\"\n",
    "R-1.4\n",
    "Write a short Python function that takes a positive integer n and returns\n",
    "the sum of the squares of all the positive integers smaller than n.\n",
    "\n",
    "R-1.5\n",
    "Give a single command that computes the sum from Exercise R-1.4, rely-\n",
    "ing on Python’s comprehension syntax and the built-in sum function.\n",
    "\"\"\"\n",
    "\n",
    "def sum_of_n_positive(n):\n",
    "    return sum(i*i for i in range(n))\n",
    "\n",
    "print(sum_of_n_positive(3))\n",
    "print(sum_of_n_positive(5))"
   ]
  },
  {
   "cell_type": "code",
   "execution_count": 24,
   "metadata": {},
   "outputs": [
    {
     "name": "stdout",
     "output_type": "stream",
     "text": [
      "1\n",
      "10\n"
     ]
    }
   ],
   "source": [
    "\"\"\"\n",
    "R-1.6\n",
    "Write a short Python function that takes a positive integer n and returns\n",
    "the sum of the squares of all the odd positive integers smaller than n.\n",
    "\n",
    "R-1.7\n",
    "Give a single command that computes the sum from Exercise R-1.6, rely-\n",
    "ing on Python’s comprehension syntax and the built-in sum function.\n",
    "\"\"\"\n",
    "\n",
    "def sum_of_n_positive(n):\n",
    "    return sum(i*i for i in range(1, n, 2))\n",
    "\n",
    "print(sum_of_n_positive(3))\n",
    "print(sum_of_n_positive(5))"
   ]
  },
  {
   "cell_type": "code",
   "execution_count": 34,
   "metadata": {},
   "outputs": [
    {
     "name": "stdout",
     "output_type": "stream",
     "text": [
      "(3, 'd')\n",
      "(2, 'c')\n"
     ]
    }
   ],
   "source": [
    "\"\"\"\n",
    "R-1.8\n",
    "Python allows negative integers to be used as indices into a sequence,\n",
    "such as a string. If string s has length n, and expression s[k] is used for in-\n",
    "dex −n ≤ k < 0, what is the equivalent index j ≥ 0 such that s[j] references\n",
    "the same element?\n",
    "\"\"\"\n",
    "\n",
    "def positive_index(string, negative_index):\n",
    "    index = (len(string) + negative_index)\n",
    "    return (index, string[negative_index]) if string[negative_index] == string[index] else None\n",
    "\n",
    "print(positive_index('abcd', -1))\n",
    "print(positive_index('abcd-e', -4))"
   ]
  },
  {
   "cell_type": "code",
   "execution_count": 36,
   "metadata": {},
   "outputs": [
    {
     "name": "stdout",
     "output_type": "stream",
     "text": [
      "[50, 60, 70, 80]\n"
     ]
    }
   ],
   "source": [
    "\"\"\"\n",
    "R-1.9\n",
    "What parameters should be sent to the range constructor, to produce a\n",
    "range with values \n",
    "50, 60, 70, 80?\n",
    "\"\"\"\n",
    "print(list(range(50, 90, 10)))"
   ]
  },
  {
   "cell_type": "code",
   "execution_count": 38,
   "metadata": {},
   "outputs": [
    {
     "name": "stdout",
     "output_type": "stream",
     "text": [
      "[8, 6, 4, 2, 0, -2, -4, -6, -8]\n"
     ]
    }
   ],
   "source": [
    "\"\"\"\n",
    "R-1.10\n",
    "What parameters should be sent to the range constructor, to produce a\n",
    "range with values \n",
    "8, 6, 4, 2, 0, −2, −4, −6, −8?\n",
    "\"\"\"\n",
    "print(list(range(8, -10, -2)))"
   ]
  },
  {
   "cell_type": "code",
   "execution_count": 41,
   "metadata": {},
   "outputs": [
    {
     "name": "stdout",
     "output_type": "stream",
     "text": [
      "[1, 2, 4, 8, 16, 32, 64, 128, 256]\n"
     ]
    }
   ],
   "source": [
    "\"\"\"\n",
    "R-1.11\n",
    "Demonstrate how to use Python’s list comprehension syntax to produce\n",
    "the list \n",
    "[1, 2, 4, 8, 16, 32, 64, 128, 256].\n",
    "\"\"\"\n",
    "\n",
    "print(list(2**i for i in range(9)))"
   ]
  },
  {
   "cell_type": "code",
   "execution_count": 47,
   "metadata": {},
   "outputs": [
    {
     "name": "stdout",
     "output_type": "stream",
     "text": [
      "0\n",
      "0\n"
     ]
    }
   ],
   "source": [
    "\"\"\"\n",
    "R-1.12\n",
    "Python’s random module includes a function choice(data) that returns a\n",
    "random element from a non-empty sequence. The random module in-\n",
    "cludes a more basic function randrange, with parameterization similar to\n",
    "the built-in range function, that return a random choice from the given\n",
    "range. Using only the randrange function, implement your own version\n",
    "of the choice function.\n",
    "\"\"\"\n",
    "from random import randrange\n",
    "\n",
    "def choice(data):\n",
    "    return data[randrange(len(data))]\n",
    "\n",
    "print(choice([1, 5, 2, 6, 0]))\n",
    "print(choice([1, 5, 2, 6, 0]))"
   ]
  },
  {
   "cell_type": "code",
   "execution_count": 50,
   "metadata": {},
   "outputs": [
    {
     "name": "stdout",
     "output_type": "stream",
     "text": [
      "[5, 4, 3, 2, 1]\n",
      "[5, 4, 3, 2, 1, 6]\n"
     ]
    }
   ],
   "source": [
    "\"\"\"\n",
    "C-1.13\n",
    "Write a pseudo-code description of a function that reverses a list of n\n",
    "integers, so that the numbers are listed in the opposite order than they\n",
    "were before, and compare this method to an equivalent Python function\n",
    "for doing the same thing.\n",
    "\"\"\"\n",
    "\n",
    "def reverse(data):\n",
    "    return [data[i] for i in range(len(data)-1, -1, -1)]\n",
    "\n",
    "print(reverse([1,2,3,4,5]))\n",
    "print(reverse([6,1,2,3,4,5]))"
   ]
  },
  {
   "cell_type": "code",
   "execution_count": 5,
   "metadata": {},
   "outputs": [
    {
     "name": "stdout",
     "output_type": "stream",
     "text": [
      "False\n",
      "True\n"
     ]
    }
   ],
   "source": [
    "\"\"\"\n",
    "C-1.14\n",
    "Write a short Python function that takes a sequence of integer values and\n",
    "determines if there is a distinct pair of numbers in the sequence whose\n",
    "product is odd.\n",
    "\"\"\"\n",
    "\n",
    "def distinct_odd_product(data):\n",
    "    return len(tuple(i for i in data if i % 2 != 0)) > 1\n",
    "\n",
    "print(distinct_odd_product([2,4,5]))\n",
    "print(distinct_odd_product([2,1,5]))"
   ]
  },
  {
   "cell_type": "code",
   "execution_count": 8,
   "metadata": {},
   "outputs": [
    {
     "name": "stdout",
     "output_type": "stream",
     "text": [
      "False\n",
      "True\n"
     ]
    }
   ],
   "source": [
    "\"\"\"\n",
    "C-1.15\n",
    "Write a Python function that takes a sequence of numbers and determines\n",
    "if all the numbers are different from each other (that is, they are distinct).\n",
    "\"\"\"\n",
    "\n",
    "def are_distinct(data):\n",
    "    return len(set(data)) == len(data)\n",
    "\n",
    "print(are_distinct([1,2,1,9]))\n",
    "print(are_distinct([1,2,9]))"
   ]
  },
  {
   "cell_type": "code",
   "execution_count": 5,
   "metadata": {},
   "outputs": [
    {
     "name": "stdout",
     "output_type": "stream",
     "text": [
      "[0, 2, 6, 12, 20, 30, 42, 56, 72, 90]\n"
     ]
    }
   ],
   "source": [
    "\"\"\"\n",
    "C-1.18 \n",
    "Demonstrate how to use Python’s list comprehension syntax to produce\n",
    "the list [0, 2, 6, 12, 20, 30, 42, 56, 72, 90].\n",
    "\"\"\"\n",
    "\n",
    "def new_list():\n",
    "    data = []\n",
    "    start = prev = 0\n",
    "    end = 20\n",
    "    for i in range(start, end, 2):\n",
    "        prev += i\n",
    "        data.append(prev)\n",
    "    return data\n",
    "\n",
    "print(new_list())"
   ]
  },
  {
   "cell_type": "code",
   "execution_count": 9,
   "metadata": {},
   "outputs": [
    {
     "data": {
      "text/plain": [
       "['a',\n",
       " 'b',\n",
       " 'c',\n",
       " 'd',\n",
       " 'e',\n",
       " 'f',\n",
       " 'g',\n",
       " 'h',\n",
       " 'i',\n",
       " 'j',\n",
       " 'k',\n",
       " 'l',\n",
       " 'm',\n",
       " 'n',\n",
       " 'o',\n",
       " 'p',\n",
       " 'q',\n",
       " 'r',\n",
       " 's',\n",
       " 't',\n",
       " 'u',\n",
       " 'v',\n",
       " 'w',\n",
       " 'x',\n",
       " 'y',\n",
       " 'z']"
      ]
     },
     "execution_count": 9,
     "metadata": {},
     "output_type": "execute_result"
    }
   ],
   "source": [
    "\"\"\"\n",
    "C-1.19\n",
    "Demonstrate how to use Python’s list comprehension syntax to produce\n",
    "the list [ a , b , c , ..., z ], but without having to type all 26 such\n",
    "characters literally.\n",
    "\"\"\"\n",
    "\n",
    "[chr(i) for i in range(97, 123)]"
   ]
  },
  {
   "cell_type": "code",
   "execution_count": 11,
   "metadata": {
    "scrolled": true
   },
   "outputs": [
    {
     "name": "stdout",
     "output_type": "stream",
     "text": [
      "[1, 5, 3, 2, 4]\n",
      "[5, 1, 4, 3, 2]\n",
      "[2, 4, 3, 1, 5]\n"
     ]
    }
   ],
   "source": [
    "\"\"\"\n",
    "C-1.20\n",
    "Python’s random module includes a function shuffle(data) that accepts a\n",
    "list of elements and randomly reorders the elements so that each possi-\n",
    "ble order occurs with equal probability. The random module includes a\n",
    "more basic function randint(a, b) that returns a uniformly random integer\n",
    "from a to b (including both endpoints). Using only the randint function,\n",
    "implement your own version of the shuffle function.\n",
    "\"\"\"\n",
    "from random import randint\n",
    "def shuffle(data):\n",
    "    new_list = []\n",
    "    while True:\n",
    "        int_ = randint(0, len(data) - 1)\n",
    "        new_list.append(data[int_])\n",
    "        data = [*data[:int_], *data[int_+1:]]\n",
    "        if not data:\n",
    "            break\n",
    "    return new_list\n",
    "\n",
    "print(shuffle([1,2,3,4,5]))\n",
    "print(shuffle([1,2,3,4,5]))\n",
    "print(shuffle([1,2,3,4,5]))"
   ]
  },
  {
   "cell_type": "code",
   "execution_count": 13,
   "metadata": {},
   "outputs": [
    {
     "name": "stdout",
     "output_type": "stream",
     "text": [
      "pending\n"
     ]
    }
   ],
   "source": [
    "\"\"\"\n",
    "C-1.21\n",
    "Write a Python program that repeatedly reads lines from standard input\n",
    "until an EOFError is raised, and then outputs those lines in reverse order\n",
    "(a user can indicate end of input by typing ctrl-D).\n",
    "\"\"\"\n",
    "\n",
    "print('pending')"
   ]
  },
  {
   "cell_type": "code",
   "execution_count": 17,
   "metadata": {},
   "outputs": [
    {
     "name": "stdout",
     "output_type": "stream",
     "text": [
      "[6, 8]\n"
     ]
    }
   ],
   "source": [
    "\"\"\"\n",
    "C-1.22\n",
    "Write a short Python program that takes two arrays a and b of length n\n",
    "storing int values, and returns the dot product of a and b. That is, it returns\n",
    "an array c of length n such that c[i] = a[i] · b[i], for i = 0, . . . , n − 1.\n",
    "\"\"\"\n",
    "from operator import mul\n",
    "def product(a,b):\n",
    "    return [mul(*i) for i in zip(a,b)]\n",
    "\n",
    "print(product([2,4], [3,2]))"
   ]
  },
  {
   "cell_type": "code",
   "execution_count": null,
   "metadata": {},
   "outputs": [],
   "source": []
  }
 ],
 "metadata": {
  "kernelspec": {
   "display_name": "Python 3",
   "language": "python",
   "name": "python3"
  },
  "language_info": {
   "codemirror_mode": {
    "name": "ipython",
    "version": 3
   },
   "file_extension": ".py",
   "mimetype": "text/x-python",
   "name": "python",
   "nbconvert_exporter": "python",
   "pygments_lexer": "ipython3",
   "version": "3.8.5"
  }
 },
 "nbformat": 4,
 "nbformat_minor": 4
}
